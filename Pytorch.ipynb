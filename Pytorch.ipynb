{
  "nbformat": 4,
  "nbformat_minor": 0,
  "metadata": {
    "colab": {
      "name": "Pytorch.ipynb",
      "provenance": [],
      "authorship_tag": "ABX9TyMfXDjxocp7EyGpeecHEmsU",
      "include_colab_link": true
    },
    "kernelspec": {
      "name": "python3",
      "display_name": "Python 3"
    }
  },
  "cells": [
    {
      "cell_type": "markdown",
      "metadata": {
        "id": "view-in-github",
        "colab_type": "text"
      },
      "source": [
        "<a href=\"https://colab.research.google.com/github/YeisonsUarez/ParcialApp/blob/master/Pytorch.ipynb\" target=\"_parent\"><img src=\"https://colab.research.google.com/assets/colab-badge.svg\" alt=\"Open In Colab\"/></a>"
      ]
    },
    {
      "cell_type": "markdown",
      "metadata": {
        "id": "qOUB7NB7eqiz",
        "colab_type": "text"
      },
      "source": [
        "**Importar pytorch**\n",
        "\n",
        "[1]Importar Pytorch y crear un tensor de dimención uno\n",
        "[2] obtener el tipo de dato que contiene el tensor\n",
        "\n",
        "\n"
      ]
    },
    {
      "cell_type": "code",
      "metadata": {
        "id": "KMqVAO8VNyjh",
        "colab_type": "code",
        "colab": {}
      },
      "source": [
        "import torch \n",
        "a= torch.tensor([1,2,3,4])\n"
      ],
      "execution_count": 0,
      "outputs": []
    },
    {
      "cell_type": "code",
      "metadata": {
        "id": "vF6WfIK0OEnx",
        "colab_type": "code",
        "outputId": "84116a68-d9a3-4d41-ddc8-c46f879d008b",
        "colab": {
          "base_uri": "https://localhost:8080/",
          "height": 34
        }
      },
      "source": [
        "a.dtype"
      ],
      "execution_count": 0,
      "outputs": [
        {
          "output_type": "execute_result",
          "data": {
            "text/plain": [
              "torch.int64"
            ]
          },
          "metadata": {
            "tags": []
          },
          "execution_count": 2
        }
      ]
    },
    {
      "cell_type": "markdown",
      "metadata": {
        "id": "J0yjTfOHO_4c",
        "colab_type": "text"
      },
      "source": [
        "Convierte el tensor a tipo int32\n"
      ]
    },
    {
      "cell_type": "code",
      "metadata": {
        "id": "i5qIhHdcOii6",
        "colab_type": "code",
        "outputId": "98cc9161-34c7-486b-c8ef-a447638ab4db",
        "colab": {
          "base_uri": "https://localhost:8080/",
          "height": 34
        }
      },
      "source": [
        "a= torch.tensor([0.0,1.0,2.0,3.0], dtype=torch.int32)\n",
        "a.dtype"
      ],
      "execution_count": 0,
      "outputs": [
        {
          "output_type": "execute_result",
          "data": {
            "text/plain": [
              "torch.int32"
            ]
          },
          "metadata": {
            "tags": []
          },
          "execution_count": 3
        }
      ]
    },
    {
      "cell_type": "markdown",
      "metadata": {
        "id": "I5rHII57TDbL",
        "colab_type": "text"
      },
      "source": [
        "convierte un tensor de una 1D a 2D llamando al metodo view(filas,columnas)"
      ]
    },
    {
      "cell_type": "code",
      "metadata": {
        "id": "EK8PgWSqSeac",
        "colab_type": "code",
        "outputId": "92c96d6b-0c4e-42e8-d1c7-4b11f9588382",
        "colab": {
          "base_uri": "https://localhost:8080/",
          "height": 85
        }
      },
      "source": [
        "a_col= a.view(-1,1) \n",
        "a_col"
      ],
      "execution_count": 0,
      "outputs": [
        {
          "output_type": "execute_result",
          "data": {
            "text/plain": [
              "tensor([[0],\n",
              "        [1],\n",
              "        [2],\n",
              "        [3]], dtype=torch.int32)"
            ]
          },
          "metadata": {
            "tags": []
          },
          "execution_count": 7
        }
      ]
    },
    {
      "cell_type": "markdown",
      "metadata": {
        "id": "RVdMbS-6V7Xb",
        "colab_type": "text"
      },
      "source": [
        "Convetir de numpy a torch y torch a numpy"
      ]
    },
    {
      "cell_type": "code",
      "metadata": {
        "id": "yq1GGNq1TQs5",
        "colab_type": "code",
        "outputId": "ca3c644a-71f3-4019-9094-feb1bb411241",
        "colab": {
          "base_uri": "https://localhost:8080/",
          "height": 34
        }
      },
      "source": [
        "import numpy as np\n",
        "numpy_array = np.array([0.0,10.0,20.0,30.0])#crea un tensor con numpy\n",
        "numpy_torch= torch.from_numpy(numpy_array)# convierte un tensor de numpy a uno de pytorch\n",
        "torch_numpy= numpy_torch.numpy()#convierte un tensor de pytorch a uno de numpy\n",
        "torch_numpy"
      ],
      "execution_count": 0,
      "outputs": [
        {
          "output_type": "execute_result",
          "data": {
            "text/plain": [
              "array([ 0., 10., 20., 30.])"
            ]
          },
          "metadata": {
            "tags": []
          },
          "execution_count": 15
        }
      ]
    },
    {
      "cell_type": "markdown",
      "metadata": {
        "id": "C2IDUvZpWsdM",
        "colab_type": "text"
      },
      "source": [
        "**Convertir datos de pandas a tensor de torch**"
      ]
    },
    {
      "cell_type": "code",
      "metadata": {
        "id": "EJvUeenOWFsc",
        "colab_type": "code",
        "outputId": "0ce7e3ab-54fe-4f83-d404-b3ab221db0b9",
        "colab": {
          "base_uri": "https://localhost:8080/",
          "height": 119
        }
      },
      "source": [
        "import pandas as pd\n",
        "pandas_series= pd.Series([0.1,2,3,0.5,5])\n",
        "pandas_to_torch= torch.from_numpy(pandas_series.values)\n",
        "pandas_series"
      ],
      "execution_count": 0,
      "outputs": [
        {
          "output_type": "execute_result",
          "data": {
            "text/plain": [
              "0    0.1\n",
              "1    2.0\n",
              "2    3.0\n",
              "3    0.5\n",
              "4    5.0\n",
              "dtype: float64"
            ]
          },
          "metadata": {
            "tags": []
          },
          "execution_count": 17
        }
      ]
    },
    {
      "cell_type": "code",
      "metadata": {
        "id": "-vRvSeqSv0ea",
        "colab_type": "code",
        "outputId": "12efff61-7bd5-428d-beee-e3d73d7bbb92",
        "colab": {
          "base_uri": "https://localhost:8080/",
          "height": 142
        }
      },
      "source": [
        "df = pd.DataFrame({'A':[11, 33, 22],'B':[3, 3, 2]})#dataframe\n",
        "df"
      ],
      "execution_count": 0,
      "outputs": [
        {
          "output_type": "execute_result",
          "data": {
            "text/html": [
              "<div>\n",
              "<style scoped>\n",
              "    .dataframe tbody tr th:only-of-type {\n",
              "        vertical-align: middle;\n",
              "    }\n",
              "\n",
              "    .dataframe tbody tr th {\n",
              "        vertical-align: top;\n",
              "    }\n",
              "\n",
              "    .dataframe thead th {\n",
              "        text-align: right;\n",
              "    }\n",
              "</style>\n",
              "<table border=\"1\" class=\"dataframe\">\n",
              "  <thead>\n",
              "    <tr style=\"text-align: right;\">\n",
              "      <th></th>\n",
              "      <th>A</th>\n",
              "      <th>B</th>\n",
              "    </tr>\n",
              "  </thead>\n",
              "  <tbody>\n",
              "    <tr>\n",
              "      <th>0</th>\n",
              "      <td>11</td>\n",
              "      <td>3</td>\n",
              "    </tr>\n",
              "    <tr>\n",
              "      <th>1</th>\n",
              "      <td>33</td>\n",
              "      <td>3</td>\n",
              "    </tr>\n",
              "    <tr>\n",
              "      <th>2</th>\n",
              "      <td>22</td>\n",
              "      <td>2</td>\n",
              "    </tr>\n",
              "  </tbody>\n",
              "</table>\n",
              "</div>"
            ],
            "text/plain": [
              "    A  B\n",
              "0  11  3\n",
              "1  33  3\n",
              "2  22  2"
            ]
          },
          "metadata": {
            "tags": []
          },
          "execution_count": 41
        }
      ]
    },
    {
      "cell_type": "code",
      "metadata": {
        "id": "KEMc6duXv7uQ",
        "colab_type": "code",
        "outputId": "2f564919-15ee-4396-ad0f-d13b9db2fe83",
        "colab": {
          "base_uri": "https://localhost:8080/",
          "height": 68
        }
      },
      "source": [
        "dataframe_to_tensor= torch.tensor(df.values)\n",
        "dataframe_to_tensor"
      ],
      "execution_count": 0,
      "outputs": [
        {
          "output_type": "execute_result",
          "data": {
            "text/plain": [
              "tensor([[11,  3],\n",
              "        [33,  3],\n",
              "        [22,  2]])"
            ]
          },
          "metadata": {
            "tags": []
          },
          "execution_count": 42
        }
      ]
    },
    {
      "cell_type": "code",
      "metadata": {
        "id": "3rh1rwQfxca9",
        "colab_type": "code",
        "outputId": "ff300efa-d7b4-40dc-b1bb-5ea0380b5ded",
        "colab": {
          "base_uri": "https://localhost:8080/",
          "height": 51
        }
      },
      "source": [
        "A = torch.tensor([[0, 1, 1], [1, 0, 1]])\n",
        "B = torch.tensor([[1, 1], [1, 1], [-1, 1]])\n",
        "A_times_B = torch.mm(A,B)#multiplicación matricial\n",
        "A_times_B"
      ],
      "execution_count": 0,
      "outputs": [
        {
          "output_type": "execute_result",
          "data": {
            "text/plain": [
              "tensor([[0, 2],\n",
              "        [0, 2]])"
            ]
          },
          "metadata": {
            "tags": []
          },
          "execution_count": 45
        }
      ]
    },
    {
      "cell_type": "code",
      "metadata": {
        "id": "Xn4_hSOVx7c_",
        "colab_type": "code",
        "outputId": "1e6aa504-bd1a-4223-993b-015f00bdc4dc",
        "colab": {
          "base_uri": "https://localhost:8080/",
          "height": 51
        }
      },
      "source": [
        "#random\n",
        "mat1 = torch.randn(2, 3)\n",
        "mat1"
      ],
      "execution_count": 0,
      "outputs": [
        {
          "output_type": "execute_result",
          "data": {
            "text/plain": [
              "tensor([[-0.2017, -0.3047,  0.1775],\n",
              "        [-1.1652,  0.5222, -0.2603]])"
            ]
          },
          "metadata": {
            "tags": []
          },
          "execution_count": 46
        }
      ]
    },
    {
      "cell_type": "code",
      "metadata": {
        "id": "7wVP_DPpWzQW",
        "colab_type": "code",
        "outputId": "72d8a010-03c9-4875-cfb5-677c41349510",
        "colab": {
          "base_uri": "https://localhost:8080/",
          "height": 34
        }
      },
      "source": [
        "pandas_to_torch[0] # mostrar el tipo y valor en el indice 0 del tensor "
      ],
      "execution_count": 0,
      "outputs": [
        {
          "output_type": "execute_result",
          "data": {
            "text/plain": [
              "tensor(0.1000, dtype=torch.float64)"
            ]
          },
          "metadata": {
            "tags": []
          },
          "execution_count": 18
        }
      ]
    },
    {
      "cell_type": "code",
      "metadata": {
        "id": "giBgBJMUXsYD",
        "colab_type": "code",
        "outputId": "338be4b5-8806-41fe-d9b5-47da8f75c3a7",
        "colab": {
          "base_uri": "https://localhost:8080/",
          "height": 34
        }
      },
      "source": [
        "pandas_to_torch[0].item() #mostrar solo el valor del indice cero"
      ],
      "execution_count": 0,
      "outputs": [
        {
          "output_type": "execute_result",
          "data": {
            "text/plain": [
              "0.1"
            ]
          },
          "metadata": {
            "tags": []
          },
          "execution_count": 19
        }
      ]
    },
    {
      "cell_type": "code",
      "metadata": {
        "id": "Nqv6WuQMbfxA",
        "colab_type": "code",
        "outputId": "dd6b747d-07ba-4a60-dfb3-d5751e0480bc",
        "colab": {
          "base_uri": "https://localhost:8080/",
          "height": 34
        }
      },
      "source": [
        "pandas_to_torch[0]= 100 #asignar un valor en el indice del tensor\n",
        "pandas_to_torch[0]"
      ],
      "execution_count": 0,
      "outputs": [
        {
          "output_type": "execute_result",
          "data": {
            "text/plain": [
              "tensor(100., dtype=torch.float64)"
            ]
          },
          "metadata": {
            "tags": []
          },
          "execution_count": 20
        }
      ]
    },
    {
      "cell_type": "markdown",
      "metadata": {
        "id": "5mTcHaMycBu8",
        "colab_type": "text"
      },
      "source": [
        "tensor[n:m] obtiene los valores del indice n al indice m-1\n"
      ]
    },
    {
      "cell_type": "code",
      "metadata": {
        "id": "sMp0SjLib214",
        "colab_type": "code",
        "outputId": "36df91d4-699d-49a8-8642-44a0f6e4c2ea",
        "colab": {
          "base_uri": "https://localhost:8080/",
          "height": 34
        }
      },
      "source": [
        "sub_tensor= pandas_to_torch[2:4]\n",
        "sub_tensor"
      ],
      "execution_count": 0,
      "outputs": [
        {
          "output_type": "execute_result",
          "data": {
            "text/plain": [
              "tensor([3.0000, 0.5000], dtype=torch.float64)"
            ]
          },
          "metadata": {
            "tags": []
          },
          "execution_count": 21
        }
      ]
    },
    {
      "cell_type": "markdown",
      "metadata": {
        "id": "1vjjWPN-chbm",
        "colab_type": "text"
      },
      "source": [
        "Cambia los valores del los indices seleccionados, los valores a asignar deben ser iguales a los campos seleccionados para llenar. Si se agrega un solo valor, se añadira a todos los campos seleccionados\n",
        "\n",
        "```\n",
        "# Tiene formato de código\n",
        "```\n",
        "\n"
      ]
    },
    {
      "cell_type": "code",
      "metadata": {
        "id": "GgjGwG4vcSmX",
        "colab_type": "code",
        "outputId": "c08f8270-70e3-452d-c526-9da2ea0a9caa",
        "colab": {
          "base_uri": "https://localhost:8080/",
          "height": 34
        }
      },
      "source": [
        "pandas_to_torch[2:4]=torch.tensor([400,600])\n",
        "pandas_to_torch"
      ],
      "execution_count": 0,
      "outputs": [
        {
          "output_type": "execute_result",
          "data": {
            "text/plain": [
              "tensor([100.,   2., 400., 600.,   5.], dtype=torch.float64)"
            ]
          },
          "metadata": {
            "tags": []
          },
          "execution_count": 24
        }
      ]
    },
    {
      "cell_type": "markdown",
      "metadata": {
        "id": "q6HYdjk0drme",
        "colab_type": "text"
      },
      "source": [
        "suma el valor el la fila uno, columna uno(3 en el ejemplo) y lo suma con el valor de la fila 2 columna uno. 3f1c1 +5f2c1= 8 "
      ]
    },
    {
      "cell_type": "code",
      "metadata": {
        "id": "ThMBzX29dNPO",
        "colab_type": "code",
        "outputId": "7dd67500-bafc-4438-b45d-cd636c2c87b6",
        "colab": {
          "base_uri": "https://localhost:8080/",
          "height": 34
        }
      },
      "source": [
        "tensor_uno= torch.tensor([3,4])\n",
        "tensor_dos= torch.tensor([5,6])\n",
        "tensor_suma= tensor_uno+tensor_dos\n",
        "tensor_suma"
      ],
      "execution_count": 0,
      "outputs": [
        {
          "output_type": "execute_result",
          "data": {
            "text/plain": [
              "tensor([ 8, 10])"
            ]
          },
          "metadata": {
            "tags": []
          },
          "execution_count": 27
        }
      ]
    },
    {
      "cell_type": "markdown",
      "metadata": {
        "id": "w-KmvBsffqga",
        "colab_type": "text"
      },
      "source": [
        "Multiplicación con un escalar\n"
      ]
    },
    {
      "cell_type": "code",
      "metadata": {
        "id": "gy4HP2zsfvd9",
        "colab_type": "code",
        "outputId": "7ea4474a-c2fa-4cdb-b68c-0327cdf38a54",
        "colab": {
          "base_uri": "https://localhost:8080/",
          "height": 34
        }
      },
      "source": [
        "tensor_multiplicador=torch.tensor([3,4,5,6])\n",
        "escalar_multiplicador= 10\n",
        "producto= escalar_multiplicador* tensor_multiplicador\n",
        "producto"
      ],
      "execution_count": 0,
      "outputs": [
        {
          "output_type": "execute_result",
          "data": {
            "text/plain": [
              "tensor([30, 40, 50, 60])"
            ]
          },
          "metadata": {
            "tags": []
          },
          "execution_count": 30
        }
      ]
    },
    {
      "cell_type": "markdown",
      "metadata": {
        "id": "qAZbDmn9gx_E",
        "colab_type": "text"
      },
      "source": [
        "Producto punto entre dos tensores\n"
      ]
    },
    {
      "cell_type": "code",
      "metadata": {
        "id": "H2vO9MXRg07z",
        "colab_type": "code",
        "outputId": "a9dffdb6-99bf-4e6a-a75f-ffce83273b01",
        "colab": {
          "base_uri": "https://localhost:8080/",
          "height": 34
        }
      },
      "source": [
        "tensor_uno= torch.tensor([3,4])\n",
        "tensor_dos= torch.tensor([5,6])\n",
        "resultado= torch.dot(tensor_uno,tensor_dos)\n",
        "resultado"
      ],
      "execution_count": 0,
      "outputs": [
        {
          "output_type": "execute_result",
          "data": {
            "text/plain": [
              "tensor(39)"
            ]
          },
          "metadata": {
            "tags": []
          },
          "execution_count": 31
        }
      ]
    },
    {
      "cell_type": "markdown",
      "metadata": {
        "id": "VI0lQiO-hSyJ",
        "colab_type": "text"
      },
      "source": [
        "**Metodos Importantes**"
      ]
    },
    {
      "cell_type": "code",
      "metadata": {
        "id": "4iORmKHphXCQ",
        "colab_type": "code",
        "colab": {}
      },
      "source": [
        "Promedio o Media"
      ],
      "execution_count": 0,
      "outputs": []
    },
    {
      "cell_type": "code",
      "metadata": {
        "id": "porD2PDrhejA",
        "colab_type": "code",
        "outputId": "5a4365a4-f728-4c8a-cb5a-828e6bdc4954",
        "colab": {
          "base_uri": "https://localhost:8080/",
          "height": 34
        }
      },
      "source": [
        "elementos= torch.tensor([10,50,-1,-5,100], dtype=float)\n",
        "promedio= elementos.mean()\n",
        "promedio"
      ],
      "execution_count": 0,
      "outputs": [
        {
          "output_type": "execute_result",
          "data": {
            "text/plain": [
              "tensor(30.8000, dtype=torch.float64)"
            ]
          },
          "metadata": {
            "tags": []
          },
          "execution_count": 33
        }
      ]
    },
    {
      "cell_type": "markdown",
      "metadata": {
        "id": "kHwYAJExh-NN",
        "colab_type": "text"
      },
      "source": [
        "Valor más alto dentro del tensor"
      ]
    },
    {
      "cell_type": "code",
      "metadata": {
        "id": "skCeAJb2iGRz",
        "colab_type": "code",
        "outputId": "cc9d4aa2-8b36-4e04-d018-52421e9952bc",
        "colab": {
          "base_uri": "https://localhost:8080/",
          "height": 34
        }
      },
      "source": [
        "valor_maximo=elementos.max()\n",
        "valor_maximo"
      ],
      "execution_count": 0,
      "outputs": [
        {
          "output_type": "execute_result",
          "data": {
            "text/plain": [
              "tensor(100., dtype=torch.float64)"
            ]
          },
          "metadata": {
            "tags": []
          },
          "execution_count": 35
        }
      ]
    },
    {
      "cell_type": "markdown",
      "metadata": {
        "id": "qjbQ8WgkjTHF",
        "colab_type": "text"
      },
      "source": [
        "Tambien exisen metodos como np.pi(numero PI), torch.sin(x)(seno de un angulo) .size()( tamaño del tensor), .ndimension()(para obtener la dimensión del tensor."
      ]
    },
    {
      "cell_type": "markdown",
      "metadata": {
        "id": "YHtkwyd8qYTn",
        "colab_type": "text"
      },
      "source": [
        "**Tensores bidimencionales**"
      ]
    },
    {
      "cell_type": "code",
      "metadata": {
        "id": "CKOAEGPpqcHm",
        "colab_type": "code",
        "outputId": "f26faa8e-0c8a-46b9-9fc2-9617dd05f5f5",
        "colab": {
          "base_uri": "https://localhost:8080/",
          "height": 68
        }
      },
      "source": [
        "a=[[11,12,13],[21,21,23],[31,32,33]]\n",
        "tensor_ejemplo= torch.tensor(a)\n",
        "tensor_ejemplo"
      ],
      "execution_count": 0,
      "outputs": [
        {
          "output_type": "execute_result",
          "data": {
            "text/plain": [
              "tensor([[11, 12, 13],\n",
              "        [21, 21, 23],\n",
              "        [31, 32, 33]])"
            ]
          },
          "metadata": {
            "tags": []
          },
          "execution_count": 36
        }
      ]
    },
    {
      "cell_type": "markdown",
      "metadata": {
        "id": "7z_05bwmrQ8p",
        "colab_type": "text"
      },
      "source": [
        "Metodos"
      ]
    },
    {
      "cell_type": "code",
      "metadata": {
        "id": "3jf0XG2VrSR2",
        "colab_type": "code",
        "outputId": "efafdf67-628d-4880-ab3a-da6077822467",
        "colab": {
          "base_uri": "https://localhost:8080/",
          "height": 34
        }
      },
      "source": [
        "tensor_ejemplo.ndimension() #obtener dimesion del tensor"
      ],
      "execution_count": 0,
      "outputs": [
        {
          "output_type": "execute_result",
          "data": {
            "text/plain": [
              "2"
            ]
          },
          "metadata": {
            "tags": []
          },
          "execution_count": 37
        }
      ]
    },
    {
      "cell_type": "code",
      "metadata": {
        "id": "yEKQbDvyraQQ",
        "colab_type": "code",
        "outputId": "323d9de3-484b-44cb-f6e6-7616535e9b94",
        "colab": {
          "base_uri": "https://localhost:8080/",
          "height": 34
        }
      },
      "source": [
        "tensor_ejemplo.size() #devuelve el numero de filas y columnas [filas,columnas]"
      ],
      "execution_count": 0,
      "outputs": [
        {
          "output_type": "execute_result",
          "data": {
            "text/plain": [
              "torch.Size([3, 3])"
            ]
          },
          "metadata": {
            "tags": []
          },
          "execution_count": 38
        }
      ]
    },
    {
      "cell_type": "code",
      "metadata": {
        "id": "7KTo14ubrwyG",
        "colab_type": "code",
        "outputId": "1e9de65c-5bd8-4783-a564-3359d097518f",
        "colab": {
          "base_uri": "https://localhost:8080/",
          "height": 34
        }
      },
      "source": [
        "tensor_ejemplo.numel() #numero de elementos"
      ],
      "execution_count": 0,
      "outputs": [
        {
          "output_type": "execute_result",
          "data": {
            "text/plain": [
              "9"
            ]
          },
          "metadata": {
            "tags": []
          },
          "execution_count": 39
        }
      ]
    },
    {
      "cell_type": "code",
      "metadata": {
        "id": "AxsPzxhIsqsi",
        "colab_type": "code",
        "outputId": "e8cdb781-3ca0-4e6e-cefa-a900c5c88f85",
        "colab": {
          "base_uri": "https://localhost:8080/",
          "height": 34
        }
      },
      "source": [
        "tensor_ejemplo[0:3,1] #obtener valores de la 2 columna"
      ],
      "execution_count": 0,
      "outputs": [
        {
          "output_type": "execute_result",
          "data": {
            "text/plain": [
              "tensor([12, 21, 32])"
            ]
          },
          "metadata": {
            "tags": []
          },
          "execution_count": 40
        }
      ]
    },
    {
      "cell_type": "markdown",
      "metadata": {
        "id": "hJNwxznSyx2N",
        "colab_type": "text"
      },
      "source": [
        "**Derivadas pytorch**"
      ]
    },
    {
      "cell_type": "code",
      "metadata": {
        "id": "lVKwf5tcy1H8",
        "colab_type": "code",
        "outputId": "189205b4-6698-4d46-89b6-a11487fa23d6",
        "colab": {
          "base_uri": "https://localhost:8080/",
          "height": 102
        }
      },
      "source": [
        "x= torch.tensor(2,requires_grad=True, dtype=float) #añade los valor x=2, True porque tomare el resultado del tensor\n",
        "y= x**2 # y(x=2)= 2^2  #y(x)= x^2 crea la ecuacion y remplaza valores \n",
        "y.backward() #dy(x=2)/dx  = 2x  deviva \n",
        "x.grad # muestra el resultado\n",
        "print('data:',x.data)\n",
        "print('grad_fn:',x.grad_fn)\n",
        "print('grad:',x.grad)\n",
        "print(\"is_leaf:\",x.is_leaf)\n",
        "print(\"requires_grad:\",x.requires_grad)"
      ],
      "execution_count": 0,
      "outputs": [
        {
          "output_type": "stream",
          "text": [
            "data: tensor(2., dtype=torch.float64)\n",
            "grad_fn: None\n",
            "grad: tensor(4., dtype=torch.float64)\n",
            "is_leaf: True\n",
            "requires_grad: True\n"
          ],
          "name": "stdout"
        }
      ]
    },
    {
      "cell_type": "markdown",
      "metadata": {
        "id": "v_FlHrAH003V",
        "colab_type": "text"
      },
      "source": [
        "**Derivadas Parciales**"
      ]
    },
    {
      "cell_type": "code",
      "metadata": {
        "id": "QzJeHQfF05w0",
        "colab_type": "code",
        "outputId": "3bb9210f-9cea-46b2-93b6-a5a71be39da4",
        "colab": {
          "base_uri": "https://localhost:8080/",
          "height": 51
        }
      },
      "source": [
        "u= torch.tensor(1,requires_grad=True, dtype=float)# u=1\n",
        "v= torch.tensor(2,requires_grad=True, dtype=float) #v=2\n",
        "f= u*v+u**2 # crea la ecuación y remplaza los valores\n",
        "f.backward() #derivada parcial (df(u,v)/du  , df(u,v)/dv)\n",
        "print(\"valor para u: \"+ str(u.grad))\n",
        "print(\"valor para v: \"+ str(v.grad))\n"
      ],
      "execution_count": 0,
      "outputs": [
        {
          "output_type": "stream",
          "text": [
            "valor para u: tensor(4., dtype=torch.float64)\n",
            "valor para v: tensor(1., dtype=torch.float64)\n"
          ],
          "name": "stdout"
        }
      ]
    },
    {
      "cell_type": "code",
      "metadata": {
        "id": "GSJ0u1BMA5sm",
        "colab_type": "code",
        "outputId": "ccd20e6c-3c1a-44f5-842f-e8ec5fc2c809",
        "colab": {
          "base_uri": "https://localhost:8080/",
          "height": 279
        }
      },
      "source": [
        "import matplotlib.pylab as plt\n",
        "x = torch.linspace(-10, 10, 10, requires_grad = True)\n",
        "Y = x ** 2\n",
        "y = torch.sum(x ** 2)\n",
        "y.backward()\n",
        "\n",
        "plt.plot(x.detach().numpy(), Y.detach().numpy(), label = 'function')\n",
        "plt.plot(x.detach().numpy(), x.grad.detach().numpy(), label = 'derivative')\n",
        "plt.xlabel('x')\n",
        "plt.legend()\n",
        "plt.show()\n"
      ],
      "execution_count": 0,
      "outputs": [
        {
          "output_type": "display_data",
          "data": {
            "image/png": "[encoded data removed]",
            "text/plain": [
              "<Figure size 432x288 with 1 Axes>"
            ]
          },
          "metadata": {
            "tags": [],
            "needs_background": "light"
          }
        }
      ]
    }
  ]
}